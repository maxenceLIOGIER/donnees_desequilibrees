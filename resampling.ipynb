{
 "cells": [
  {
   "cell_type": "markdown",
   "metadata": {},
   "source": [
    "# Imbalanced data handling"
   ]
  },
  {
   "cell_type": "markdown",
   "metadata": {},
   "source": [
    "## Imports"
   ]
  },
  {
   "cell_type": "code",
   "execution_count": 2,
   "metadata": {},
   "outputs": [],
   "source": [
    "import os\n",
    "import json\n",
    "import pandas as pd\n",
    "import matplotlib.pyplot as plt\n",
    "from sklearn.model_selection import train_test_split\n",
    "from sklearn.metrics import (\n",
    "    accuracy_score, f1_score, recall_score, precision_score, roc_auc_score,\n",
    "    roc_curve, precision_recall_curve, auc\n",
    ")\n",
    "from imblearn.over_sampling import RandomOverSampler, SMOTE, BorderlineSMOTE, ADASYN\n",
    "from imblearn.under_sampling import RandomUnderSampler, ClusterCentroids, NearMiss, TomekLinks\n",
    "from sklearn.ensemble import RandomForestClassifier\n",
    "from sklearn.linear_model import LogisticRegression\n",
    "from sklearn.svm import SVC\n",
    "from sklearn.tree import DecisionTreeClassifier\n",
    "from sklearn.neighbors import KNeighborsClassifier\n",
    "from xgboost import XGBClassifier\n",
    "\n",
    "pd.options.display.float_format = '{:,.2f}'.format"
   ]
  },
  {
   "cell_type": "code",
   "execution_count": 3,
   "metadata": {},
   "outputs": [
    {
     "name": "stdout",
     "output_type": "stream",
     "text": [
      "\n",
      "System:\n",
      "     python: 3.11.9 (tags/v3.11.9:de54cf5, Apr  2 2024, 10:12:12) [MSC v.1938 64 bit (AMD64)]\n",
      " executable: c:\\Users\\Joel\\Python Envs\\enedis\\Scripts\\python.exe\n",
      "    machine: Windows-10-10.0.19045-SP0\n",
      "\n",
      "Python dependencies:\n",
      "imbalanced-learn: 0.13.0\n",
      "        pip: 24.2\n",
      " setuptools: 75.1.0\n",
      "      numpy: 1.26.3\n",
      "      scipy: 1.11.4\n",
      "scikit-learn: 1.5.2\n",
      "     Cython: None\n",
      "     pandas: 2.2.3\n",
      "      keras: 3.6.0\n",
      " tensorflow: 2.17.0\n",
      "     joblib: 1.4.2\n"
     ]
    }
   ],
   "source": [
    "import imblearn\n",
    "imblearn.show_versions()"
   ]
  },
  {
   "cell_type": "markdown",
   "metadata": {},
   "source": [
    "## Classifiers used"
   ]
  },
  {
   "cell_type": "code",
   "execution_count": 4,
   "metadata": {},
   "outputs": [],
   "source": [
    "classifiers = {\n",
    "    \"Random Forest\": RandomForestClassifier(random_state=42),\n",
    "    \"Logistic Regression\": LogisticRegression(random_state=42, max_iter=500),\n",
    "    \"Decision Tree\": DecisionTreeClassifier(random_state=42),\n",
    "    # \"k-NN\": KNeighborsClassifier(),\n",
    "    \"XGBoost\": XGBClassifier(use_label_encoder=False, eval_metric='logloss', random_state=42, n_jobs=-1)\n",
    "}"
   ]
  },
  {
   "cell_type": "markdown",
   "metadata": {},
   "source": [
    "## Resampling method"
   ]
  },
  {
   "cell_type": "code",
   "execution_count": 5,
   "metadata": {},
   "outputs": [],
   "source": [
    "resampling_methods = {\n",
    "    \"None (Original Data)\": None,\n",
    "    \"Random OverSampler\": RandomOverSampler(random_state=42),\n",
    "    \"SMOTE\": SMOTE(random_state=42),\n",
    "    \"Borderline-SMOTE\": BorderlineSMOTE(random_state=42),\n",
    "    \"ADASYN\": ADASYN(random_state=42),\n",
    "    \"Random Undersampling\": RandomUnderSampler(random_state=42),\n",
    "    \"ClusterCentroids\": ClusterCentroids(random_state=42),\n",
    "    # \"CondensedNearestNeighbour\": CondensedNearestNeighbour(random_state=42),\n",
    "    \"NearMiss\": NearMiss(),\n",
    "    \"Tomek Links\": TomekLinks()\n",
    "}"
   ]
  },
  {
   "cell_type": "markdown",
   "metadata": {},
   "source": [
    "## Metrics"
   ]
  },
  {
   "cell_type": "code",
   "execution_count": 6,
   "metadata": {},
   "outputs": [],
   "source": [
    "def evaluate_model(y_true, y_pred, y_prob):\n",
    "    return {\n",
    "        \"Accuracy\": accuracy_score(y_true, y_pred),\n",
    "        \"F1 Score\": f1_score(y_true, y_pred),\n",
    "        \"Precision\": precision_score(y_true, y_pred),\n",
    "        \"Recall (Sensitivity)\": recall_score(y_true, y_pred),\n",
    "        \"ROC AUC\": roc_auc_score(y_true, y_prob[:, 1] if y_prob is not None else None),\n",
    "    }"
   ]
  },
  {
   "cell_type": "markdown",
   "metadata": {},
   "source": [
    "## ROC/PRC Curves"
   ]
  },
  {
   "cell_type": "code",
   "execution_count": 7,
   "metadata": {},
   "outputs": [],
   "source": [
    "def save_curves(y_test, y_prob, model_name, resampling_name):\n",
    "    fpr, tpr, _ = roc_curve(y_test, y_prob[:, 1])\n",
    "    precision, recall, _ = precision_recall_curve(y_test, y_prob[:, 1])\n",
    "    \n",
    "\n",
    "    roc_auc = roc_auc_score(y_test, y_prob[:, 1])\n",
    "    pr_auc = auc(recall, precision)\n",
    "\n",
    "    curve_data = {\n",
    "                    \"Classifier\": model_name,\n",
    "                    \"Resampling Method\": resampling_name,\n",
    "                    \"ROC\": {\"fpr\": fpr.tolist(), \"tpr\": tpr.tolist(), \"auc\": roc_auc},\n",
    "                    \"PR\": {\"precision\": precision.tolist(), \"recall\": recall.tolist(), \"auc\": pr_auc},\n",
    "                }\n",
    "\n",
    "    plt.figure(figsize=(12, 6))\n",
    "\n",
    "    plt.subplot(1, 2, 1)\n",
    "    plt.plot(fpr, tpr, label=f'ROC AUC = {roc_auc:.2f}')\n",
    "    plt.plot([0, 1], [0, 1], 'k--', label='Random Model')\n",
    "    plt.title(f'ROC Curve: {model_name} ({resampling_name})')\n",
    "    plt.xlabel('False Positive Rate')\n",
    "    plt.ylabel('True Positive Rate')\n",
    "    plt.legend()\n",
    "\n",
    "    plt.subplot(1, 2, 2)\n",
    "    plt.plot(recall, precision, label=f'PR AUC = {pr_auc:.2f}')\n",
    "    plt.title(f'Precision-Recall Curve: {model_name} ({resampling_name})')\n",
    "    plt.xlabel('Recall')\n",
    "    plt.ylabel('Precision')\n",
    "    plt.legend()\n",
    "\n",
    "    plt.tight_layout()\n",
    "    os.makedirs(\"./figures\", exist_ok=True)\n",
    "    filename = f\"./figures/{model_name}_{resampling_name.replace(' ', '_')}.png\"\n",
    "    plt.savefig(filename)\n",
    "    plt.close()\n",
    "    os.makedirs(\"./results/json\", exist_ok=True)\n",
    "    filename = f\"./results/json/{model_name}_{resampling_name.replace(' ', '_')}_curves.json\"\n",
    "    with open(filename, \"w\") as f:\n",
    "        json.dump(curve_data, f)"
   ]
  },
  {
   "cell_type": "markdown",
   "metadata": {},
   "source": [
    "## Import dataset"
   ]
  },
  {
   "cell_type": "code",
   "execution_count": 8,
   "metadata": {},
   "outputs": [
    {
     "name": "stdout",
     "output_type": "stream",
     "text": [
      "<class 'pandas.core.frame.DataFrame'>\n",
      "RangeIndex: 4646773 entries, 0 to 4646772\n",
      "Data columns (total 23 columns):\n",
      " #   Column                    Dtype         \n",
      "---  ------                    -----         \n",
      " 0   ZIBZIN                    object        \n",
      " 1   IDAvisAutorisationCheque  int64         \n",
      " 2   FlagImpaye                int64         \n",
      " 3   Montant                   float64       \n",
      " 4   DateTransaction           datetime64[ns]\n",
      " 5   CodeDecision              int64         \n",
      " 6   VerifianceCPT1            int64         \n",
      " 7   VerifianceCPT2            int64         \n",
      " 8   VerifianceCPT3            int64         \n",
      " 9   D2CB                      int64         \n",
      " 10  ScoringFP1                float64       \n",
      " 11  ScoringFP2                float64       \n",
      " 12  ScoringFP3                float64       \n",
      " 13  TauxImpNb_RB              float64       \n",
      " 14  TauxImpNB_CPM             float64       \n",
      " 15  EcartNumCheq              int64         \n",
      " 16  NbrMagasin3J              int64         \n",
      " 17  DiffDateTr1               float64       \n",
      " 18  DiffDateTr2               float64       \n",
      " 19  DiffDateTr3               float64       \n",
      " 20  CA3TRetMtt                float64       \n",
      " 21  CA3TR                     float64       \n",
      " 22  Heure                     int64         \n",
      "dtypes: datetime64[ns](1), float64(11), int64(10), object(1)\n",
      "memory usage: 815.4+ MB\n"
     ]
    }
   ],
   "source": [
    "PATH_TO_DATA = \"data\\guillaume.txt\"\n",
    "\n",
    "df = pd.read_csv(PATH_TO_DATA, sep=\";\", parse_dates=[4], decimal=',',header=0)\n",
    "\n",
    "df.info()"
   ]
  },
  {
   "cell_type": "code",
   "execution_count": 9,
   "metadata": {},
   "outputs": [
    {
     "data": {
      "text/plain": [
       "834734"
      ]
     },
     "execution_count": 9,
     "metadata": {},
     "output_type": "execute_result"
    }
   ],
   "source": [
    "df.duplicated().sum()"
   ]
  },
  {
   "cell_type": "code",
   "execution_count": 10,
   "metadata": {},
   "outputs": [],
   "source": [
    "df.drop_duplicates(inplace=True)"
   ]
  },
  {
   "cell_type": "code",
   "execution_count": 11,
   "metadata": {},
   "outputs": [
    {
     "name": "stdout",
     "output_type": "stream",
     "text": [
      "ZIBZIN: ZIBZIN\n",
      "A013010041908004184100729    179\n",
      "A033013306908002131943000    149\n",
      "A010010002908870005472117    147\n",
      "A075000041908023367242120    144\n",
      "A013013369908000035048787    143\n",
      "                            ... \n",
      "A075001315908004682437348      1\n",
      "A034010041908007943451330      1\n",
      "A007013379900000000160340      1\n",
      "A039012506908013030694000      1\n",
      "A078010004908211306074580      1\n",
      "Name: count, Length: 1280126, dtype: int64\n",
      "IDAvisAutorisationCheque: IDAvisAutorisationCheque\n",
      "78643044    1\n",
      "81927417    1\n",
      "81927390    1\n",
      "81927391    1\n",
      "81927392    1\n",
      "           ..\n",
      "79927764    1\n",
      "79927765    1\n",
      "79927766    1\n",
      "79927767    1\n",
      "84966405    1\n",
      "Name: count, Length: 3812039, dtype: int64\n",
      "FlagImpaye: FlagImpaye\n",
      "0    3788984\n",
      "1      23055\n",
      "Name: count, dtype: int64\n",
      "Montant: Montant\n",
      "30.00       29928\n",
      "20.00       25929\n",
      "40.00       19584\n",
      "50.00       17578\n",
      "25.00       13222\n",
      "            ...  \n",
      "348.24          1\n",
      "428.85          1\n",
      "393.56          1\n",
      "467.49          1\n",
      "2,705.62        1\n",
      "Name: count, Length: 42863, dtype: int64\n",
      "DateTransaction: DateTransaction\n",
      "2017-10-27 11:47:53    10\n",
      "2017-03-04 17:18:31     8\n",
      "2017-04-29 11:43:40     8\n",
      "2017-02-11 11:42:33     8\n",
      "2017-02-25 11:27:04     8\n",
      "                       ..\n",
      "2017-04-19 18:15:05     1\n",
      "2017-04-19 18:15:06     1\n",
      "2017-04-19 18:15:08     1\n",
      "2017-04-19 18:15:12     1\n",
      "2017-11-30 22:07:13     1\n",
      "Name: count, Length: 3097881, dtype: int64\n",
      "CodeDecision: CodeDecision\n",
      "0    2673199\n",
      "1    1121626\n",
      "2      15023\n",
      "3       2190\n",
      "4          1\n",
      "Name: count, dtype: int64\n",
      "VerifianceCPT1: VerifianceCPT1\n",
      "0     3106103\n",
      "1      681734\n",
      "2       22315\n",
      "3        1531\n",
      "4         212\n",
      "5          83\n",
      "6          33\n",
      "7          13\n",
      "8           6\n",
      "9           4\n",
      "10          2\n",
      "12          1\n",
      "11          1\n",
      "16          1\n",
      "Name: count, dtype: int64\n",
      "VerifianceCPT2: VerifianceCPT2\n",
      "0     3106103\n",
      "1      639991\n",
      "2       57463\n",
      "3        6577\n",
      "4        1132\n",
      "5         357\n",
      "6         164\n",
      "7          76\n",
      "8          51\n",
      "9          46\n",
      "10         25\n",
      "12         15\n",
      "11         13\n",
      "13         10\n",
      "14          6\n",
      "17          3\n",
      "22          2\n",
      "21          1\n",
      "20          1\n",
      "23          1\n",
      "26          1\n",
      "18          1\n",
      "Name: count, dtype: int64\n",
      "VerifianceCPT3: VerifianceCPT3\n",
      "0     3106103\n",
      "1      578343\n",
      "2      102692\n",
      "3       18569\n",
      "4        4220\n",
      "5        1114\n",
      "6         412\n",
      "7         203\n",
      "8         122\n",
      "9          83\n",
      "10         46\n",
      "11         24\n",
      "13         20\n",
      "12         19\n",
      "16         10\n",
      "14         10\n",
      "15         10\n",
      "20          7\n",
      "19          6\n",
      "17          6\n",
      "22          5\n",
      "21          4\n",
      "25          3\n",
      "23          2\n",
      "31          1\n",
      "32          1\n",
      "30          1\n",
      "18          1\n",
      "27          1\n",
      "24          1\n",
      "Name: count, dtype: int64\n",
      "D2CB: D2CB\n",
      "1      734841\n",
      "547    156730\n",
      "551    115773\n",
      "550    103499\n",
      "549     89878\n",
      "        ...  \n",
      "109      1834\n",
      "137      1830\n",
      "165      1829\n",
      "132      1820\n",
      "104      1792\n",
      "Name: count, Length: 551, dtype: int64\n",
      "ScoringFP1: ScoringFP1\n",
      "0.00     550257\n",
      "31.90       857\n",
      "29.90       557\n",
      "39.90       549\n",
      "49.90       447\n",
      "          ...  \n",
      "0.02          1\n",
      "0.03          1\n",
      "0.01          1\n",
      "0.01          1\n",
      "0.00          1\n",
      "Name: count, Length: 2079250, dtype: int64\n",
      "ScoringFP2: ScoringFP2\n",
      "0.00      550476\n",
      "-0.04       1021\n",
      "0.06         899\n",
      "0.11         845\n",
      "0.06         786\n",
      "           ...  \n",
      "-2.89          1\n",
      "1.41           1\n",
      "-5.95          1\n",
      "-4.70          1\n",
      "-26.66         1\n",
      "Name: count, Length: 3035591, dtype: int64\n",
      "ScoringFP3: ScoringFP3\n",
      "0.00    550487\n",
      "0.59       395\n",
      "5.04       316\n",
      "0.44       277\n",
      "0.60       275\n",
      "         ...  \n",
      "0.00         1\n",
      "0.00         1\n",
      "0.00         1\n",
      "0.00         1\n",
      "0.00         1\n",
      "Name: count, Length: 3186792, dtype: int64\n",
      "TauxImpNb_RB: TauxImpNb_RB\n",
      "45.37       169432\n",
      "38.99        94433\n",
      "0.00         72165\n",
      "32.63        68598\n",
      "45.14        55473\n",
      "             ...  \n",
      "6,666.67        14\n",
      "5,000.00        12\n",
      "1,250.00         9\n",
      "1,666.67         7\n",
      "6,000.00         5\n",
      "Name: count, Length: 662, dtype: int64\n",
      "TauxImpNB_CPM: TauxImpNB_CPM\n",
      "52.08     365015\n",
      "43.44     198154\n",
      "36.81     167874\n",
      "0.00      167190\n",
      "34.25     127858\n",
      "           ...  \n",
      "22.32       2909\n",
      "69.78       2272\n",
      "127.70      2269\n",
      "59.35       1660\n",
      "99.72        803\n",
      "Name: count, Length: 81, dtype: int64\n",
      "EcartNumCheq: EcartNumCheq\n",
      "0          3324510\n",
      "1           254092\n",
      "2           110453\n",
      "3            50913\n",
      "4            23229\n",
      "            ...   \n",
      "1357831          1\n",
      "473572           1\n",
      "27962            1\n",
      "6520991          1\n",
      "1147898          1\n",
      "Name: count, Length: 15437, dtype: int64\n",
      "NbrMagasin3J: NbrMagasin3J\n",
      "1    3670321\n",
      "2     139510\n",
      "3       2130\n",
      "4         77\n",
      "5          1\n",
      "Name: count, dtype: int64\n",
      "DiffDateTr1: DiffDateTr1\n",
      "4.00    2618661\n",
      "5.00     705511\n",
      "0.00        113\n",
      "0.00        106\n",
      "0.00        102\n",
      "         ...   \n",
      "0.51          1\n",
      "0.85          1\n",
      "2.32          1\n",
      "2.67          1\n",
      "1.36          1\n",
      "Name: count, Length: 154510, dtype: int64\n",
      "DiffDateTr2: DiffDateTr2\n",
      "4.00    2993094\n",
      "5.00     743561\n",
      "1.99         12\n",
      "2.00         11\n",
      "3.00         11\n",
      "         ...   \n",
      "1.83          1\n",
      "1.81          1\n",
      "2.84          1\n",
      "2.72          1\n",
      "1.96          1\n",
      "Name: count, Length: 51509, dtype: int64\n",
      "DiffDateTr3: DiffDateTr3\n",
      "4.00    3050025\n",
      "5.00     747408\n",
      "3.00          6\n",
      "2.99          6\n",
      "2.99          6\n",
      "         ...   \n",
      "2.84          1\n",
      "2.91          1\n",
      "3.00          1\n",
      "1.02          1\n",
      "1.05          1\n",
      "Name: count, Length: 12664, dtype: int64\n",
      "CA3TRetMtt: CA3TRetMtt\n",
      "30.00       26153\n",
      "20.00       21982\n",
      "40.00       17484\n",
      "50.00       16019\n",
      "25.00       11438\n",
      "            ...  \n",
      "78.62           1\n",
      "715.90          1\n",
      "598.80          1\n",
      "338.53          1\n",
      "2,705.62        1\n",
      "Name: count, Length: 57149, dtype: int64\n",
      "CA3TR: CA3TR\n",
      "0.00      3324172\n",
      "30.00        3656\n",
      "20.00        3590\n",
      "40.00        2079\n",
      "25.00        1683\n",
      "           ...   \n",
      "174.46          1\n",
      "578.81          1\n",
      "161.37          1\n",
      "325.63          1\n",
      "209.92          1\n",
      "Name: count, Length: 31391, dtype: int64\n",
      "Heure: Heure\n",
      "39610    166\n",
      "38957    165\n",
      "40646    165\n",
      "39869    163\n",
      "39033    161\n",
      "        ... \n",
      "27264      1\n",
      "27009      1\n",
      "78544      1\n",
      "78061      1\n",
      "79633      1\n",
      "Name: count, Length: 49511, dtype: int64\n"
     ]
    }
   ],
   "source": [
    "for col in df.columns:\n",
    "    print(f\"{col}: {df.loc[:,col].value_counts()}\")"
   ]
  },
  {
   "cell_type": "markdown",
   "metadata": {},
   "source": [
    "extract year, month, day from date.\n",
    "\n",
    "hh:mm:ss is already as timestamp the column heure"
   ]
  },
  {
   "cell_type": "code",
   "execution_count": 12,
   "metadata": {},
   "outputs": [
    {
     "data": {
      "text/html": [
       "<div>\n",
       "<style scoped>\n",
       "    .dataframe tbody tr th:only-of-type {\n",
       "        vertical-align: middle;\n",
       "    }\n",
       "\n",
       "    .dataframe tbody tr th {\n",
       "        vertical-align: top;\n",
       "    }\n",
       "\n",
       "    .dataframe thead th {\n",
       "        text-align: right;\n",
       "    }\n",
       "</style>\n",
       "<table border=\"1\" class=\"dataframe\">\n",
       "  <thead>\n",
       "    <tr style=\"text-align: right;\">\n",
       "      <th></th>\n",
       "      <th>ZIBZIN</th>\n",
       "      <th>IDAvisAutorisationCheque</th>\n",
       "      <th>FlagImpaye</th>\n",
       "      <th>Montant</th>\n",
       "      <th>DateTransaction</th>\n",
       "      <th>CodeDecision</th>\n",
       "      <th>VerifianceCPT1</th>\n",
       "      <th>VerifianceCPT2</th>\n",
       "      <th>VerifianceCPT3</th>\n",
       "      <th>D2CB</th>\n",
       "      <th>...</th>\n",
       "      <th>NbrMagasin3J</th>\n",
       "      <th>DiffDateTr1</th>\n",
       "      <th>DiffDateTr2</th>\n",
       "      <th>DiffDateTr3</th>\n",
       "      <th>CA3TRetMtt</th>\n",
       "      <th>CA3TR</th>\n",
       "      <th>Heure</th>\n",
       "      <th>annee</th>\n",
       "      <th>mois</th>\n",
       "      <th>jour</th>\n",
       "    </tr>\n",
       "  </thead>\n",
       "  <tbody>\n",
       "    <tr>\n",
       "      <th>0</th>\n",
       "      <td>A013010004908126703060931</td>\n",
       "      <td>78643044</td>\n",
       "      <td>0</td>\n",
       "      <td>20.00</td>\n",
       "      <td>2017-02-01 07:32:14</td>\n",
       "      <td>1</td>\n",
       "      <td>0</td>\n",
       "      <td>0</td>\n",
       "      <td>0</td>\n",
       "      <td>551</td>\n",
       "      <td>...</td>\n",
       "      <td>1</td>\n",
       "      <td>4.00</td>\n",
       "      <td>4.00</td>\n",
       "      <td>4.00</td>\n",
       "      <td>20.00</td>\n",
       "      <td>0.00</td>\n",
       "      <td>27134</td>\n",
       "      <td>2017</td>\n",
       "      <td>2</td>\n",
       "      <td>1</td>\n",
       "    </tr>\n",
       "    <tr>\n",
       "      <th>1</th>\n",
       "      <td>A013011306908024927155000</td>\n",
       "      <td>78643045</td>\n",
       "      <td>0</td>\n",
       "      <td>20.00</td>\n",
       "      <td>2017-02-01 07:43:37</td>\n",
       "      <td>1</td>\n",
       "      <td>0</td>\n",
       "      <td>0</td>\n",
       "      <td>0</td>\n",
       "      <td>551</td>\n",
       "      <td>...</td>\n",
       "      <td>2</td>\n",
       "      <td>1.80</td>\n",
       "      <td>4.00</td>\n",
       "      <td>4.00</td>\n",
       "      <td>28.61</td>\n",
       "      <td>8.61</td>\n",
       "      <td>27817</td>\n",
       "      <td>2017</td>\n",
       "      <td>2</td>\n",
       "      <td>1</td>\n",
       "    </tr>\n",
       "    <tr>\n",
       "      <th>2</th>\n",
       "      <td>A013010002908283134592527</td>\n",
       "      <td>78643046</td>\n",
       "      <td>0</td>\n",
       "      <td>57.64</td>\n",
       "      <td>2017-02-01 07:47:38</td>\n",
       "      <td>1</td>\n",
       "      <td>0</td>\n",
       "      <td>0</td>\n",
       "      <td>0</td>\n",
       "      <td>549</td>\n",
       "      <td>...</td>\n",
       "      <td>1</td>\n",
       "      <td>4.00</td>\n",
       "      <td>4.00</td>\n",
       "      <td>4.00</td>\n",
       "      <td>57.64</td>\n",
       "      <td>0.00</td>\n",
       "      <td>28058</td>\n",
       "      <td>2017</td>\n",
       "      <td>2</td>\n",
       "      <td>1</td>\n",
       "    </tr>\n",
       "    <tr>\n",
       "      <th>3</th>\n",
       "      <td>A011010002908105209831316</td>\n",
       "      <td>78643047</td>\n",
       "      <td>0</td>\n",
       "      <td>54.29</td>\n",
       "      <td>2017-02-01 07:48:48</td>\n",
       "      <td>0</td>\n",
       "      <td>1</td>\n",
       "      <td>1</td>\n",
       "      <td>1</td>\n",
       "      <td>267</td>\n",
       "      <td>...</td>\n",
       "      <td>1</td>\n",
       "      <td>4.00</td>\n",
       "      <td>4.00</td>\n",
       "      <td>4.00</td>\n",
       "      <td>54.29</td>\n",
       "      <td>0.00</td>\n",
       "      <td>28128</td>\n",
       "      <td>2017</td>\n",
       "      <td>2</td>\n",
       "      <td>1</td>\n",
       "    </tr>\n",
       "    <tr>\n",
       "      <th>4</th>\n",
       "      <td>A013010041908000125652029</td>\n",
       "      <td>78643048</td>\n",
       "      <td>0</td>\n",
       "      <td>26.90</td>\n",
       "      <td>2017-02-01 08:13:27</td>\n",
       "      <td>1</td>\n",
       "      <td>0</td>\n",
       "      <td>0</td>\n",
       "      <td>0</td>\n",
       "      <td>549</td>\n",
       "      <td>...</td>\n",
       "      <td>1</td>\n",
       "      <td>2.00</td>\n",
       "      <td>4.00</td>\n",
       "      <td>4.00</td>\n",
       "      <td>59.15</td>\n",
       "      <td>32.25</td>\n",
       "      <td>29607</td>\n",
       "      <td>2017</td>\n",
       "      <td>2</td>\n",
       "      <td>1</td>\n",
       "    </tr>\n",
       "  </tbody>\n",
       "</table>\n",
       "<p>5 rows × 26 columns</p>\n",
       "</div>"
      ],
      "text/plain": [
       "                      ZIBZIN  IDAvisAutorisationCheque  FlagImpaye  Montant  \\\n",
       "0  A013010004908126703060931                  78643044           0    20.00   \n",
       "1  A013011306908024927155000                  78643045           0    20.00   \n",
       "2  A013010002908283134592527                  78643046           0    57.64   \n",
       "3  A011010002908105209831316                  78643047           0    54.29   \n",
       "4  A013010041908000125652029                  78643048           0    26.90   \n",
       "\n",
       "      DateTransaction  CodeDecision  VerifianceCPT1  VerifianceCPT2  \\\n",
       "0 2017-02-01 07:32:14             1               0               0   \n",
       "1 2017-02-01 07:43:37             1               0               0   \n",
       "2 2017-02-01 07:47:38             1               0               0   \n",
       "3 2017-02-01 07:48:48             0               1               1   \n",
       "4 2017-02-01 08:13:27             1               0               0   \n",
       "\n",
       "   VerifianceCPT3  D2CB  ...  NbrMagasin3J  DiffDateTr1  DiffDateTr2  \\\n",
       "0               0   551  ...             1         4.00         4.00   \n",
       "1               0   551  ...             2         1.80         4.00   \n",
       "2               0   549  ...             1         4.00         4.00   \n",
       "3               1   267  ...             1         4.00         4.00   \n",
       "4               0   549  ...             1         2.00         4.00   \n",
       "\n",
       "   DiffDateTr3  CA3TRetMtt  CA3TR  Heure  annee  mois  jour  \n",
       "0         4.00       20.00   0.00  27134   2017     2     1  \n",
       "1         4.00       28.61   8.61  27817   2017     2     1  \n",
       "2         4.00       57.64   0.00  28058   2017     2     1  \n",
       "3         4.00       54.29   0.00  28128   2017     2     1  \n",
       "4         4.00       59.15  32.25  29607   2017     2     1  \n",
       "\n",
       "[5 rows x 26 columns]"
      ]
     },
     "execution_count": 12,
     "metadata": {},
     "output_type": "execute_result"
    }
   ],
   "source": [
    "df['annee'] = pd.DatetimeIndex(df[\"DateTransaction\"]).year\n",
    "df['mois'] = pd.DatetimeIndex(df[\"DateTransaction\"]).month\n",
    "df['jour'] = pd.DatetimeIndex(df[\"DateTransaction\"]).day\n",
    "df.head()"
   ]
  },
  {
   "cell_type": "markdown",
   "metadata": {},
   "source": [
    "1er modèles : DROP ZIBZIN, IDAvisAutorisationCheque, DateTransaction"
   ]
  },
  {
   "cell_type": "code",
   "execution_count": 13,
   "metadata": {},
   "outputs": [],
   "source": [
    "train = df.loc[df[\"DateTransaction\"] < \"2017-09-01\",:].copy()\n",
    "test =  df.loc[df[\"DateTransaction\"] >= \"2017-09-01\",:].copy()\n",
    "\n",
    "train.drop(columns=[\"ZIBZIN\", \"IDAvisAutorisationCheque\", \"DateTransaction\"], inplace=True)\n",
    "test.drop(columns=[\"ZIBZIN\", \"IDAvisAutorisationCheque\",  \"DateTransaction\"], inplace=True)"
   ]
  },
  {
   "cell_type": "code",
   "execution_count": 14,
   "metadata": {},
   "outputs": [],
   "source": [
    "X_train = train.drop(columns=\"FlagImpaye\")\n",
    "y_train = train.loc[:,\"FlagImpaye\"]\n",
    "\n",
    "X_test = test.drop(columns=\"FlagImpaye\")\n",
    "y_test = test[\"FlagImpaye\"]"
   ]
  },
  {
   "cell_type": "code",
   "execution_count": null,
   "metadata": {},
   "outputs": [
    {
     "name": "stdout",
     "output_type": "stream",
     "text": [
      "Resampler: None (Original Data), Model: Random Forest\n",
      "Resampler: None (Original Data), Model: Logistic Regression\n"
     ]
    },
    {
     "name": "stderr",
     "output_type": "stream",
     "text": [
      "c:\\Users\\Joel\\Python Envs\\enedis\\Lib\\site-packages\\sklearn\\linear_model\\_logistic.py:469: ConvergenceWarning: lbfgs failed to converge (status=1):\n",
      "STOP: TOTAL NO. of ITERATIONS REACHED LIMIT.\n",
      "\n",
      "Increase the number of iterations (max_iter) or scale the data as shown in:\n",
      "    https://scikit-learn.org/stable/modules/preprocessing.html\n",
      "Please also refer to the documentation for alternative solver options:\n",
      "    https://scikit-learn.org/stable/modules/linear_model.html#logistic-regression\n",
      "  n_iter_i = _check_optimize_result(\n"
     ]
    },
    {
     "name": "stdout",
     "output_type": "stream",
     "text": [
      "Resampler: None (Original Data), Model: Decision Tree\n",
      "Resampler: None (Original Data), Model: XGBoost\n"
     ]
    },
    {
     "name": "stderr",
     "output_type": "stream",
     "text": [
      "c:\\Users\\Joel\\Python Envs\\enedis\\Lib\\site-packages\\xgboost\\core.py:158: UserWarning: [13:04:26] WARNING: C:\\buildkite-agent\\builds\\buildkite-windows-cpu-autoscaling-group-i-0015a694724fa8361-1\\xgboost\\xgboost-ci-windows\\src\\learner.cc:740: \n",
      "Parameters: { \"use_label_encoder\" } are not used.\n",
      "\n",
      "  warnings.warn(smsg, UserWarning)\n"
     ]
    },
    {
     "name": "stdout",
     "output_type": "stream",
     "text": [
      "Resampler: Random OverSampler, Model: Random Forest\n",
      "Resampler: Random OverSampler, Model: Logistic Regression\n"
     ]
    },
    {
     "name": "stderr",
     "output_type": "stream",
     "text": [
      "c:\\Users\\Joel\\Python Envs\\enedis\\Lib\\site-packages\\sklearn\\linear_model\\_logistic.py:469: ConvergenceWarning: lbfgs failed to converge (status=1):\n",
      "STOP: TOTAL NO. of ITERATIONS REACHED LIMIT.\n",
      "\n",
      "Increase the number of iterations (max_iter) or scale the data as shown in:\n",
      "    https://scikit-learn.org/stable/modules/preprocessing.html\n",
      "Please also refer to the documentation for alternative solver options:\n",
      "    https://scikit-learn.org/stable/modules/linear_model.html#logistic-regression\n",
      "  n_iter_i = _check_optimize_result(\n"
     ]
    },
    {
     "name": "stdout",
     "output_type": "stream",
     "text": [
      "Resampler: Random OverSampler, Model: Decision Tree\n",
      "Resampler: Random OverSampler, Model: XGBoost\n"
     ]
    },
    {
     "name": "stderr",
     "output_type": "stream",
     "text": [
      "c:\\Users\\Joel\\Python Envs\\enedis\\Lib\\site-packages\\xgboost\\core.py:158: UserWarning: [13:26:09] WARNING: C:\\buildkite-agent\\builds\\buildkite-windows-cpu-autoscaling-group-i-0015a694724fa8361-1\\xgboost\\xgboost-ci-windows\\src\\learner.cc:740: \n",
      "Parameters: { \"use_label_encoder\" } are not used.\n",
      "\n",
      "  warnings.warn(smsg, UserWarning)\n"
     ]
    },
    {
     "name": "stdout",
     "output_type": "stream",
     "text": [
      "Resampler: SMOTE, Model: Random Forest\n",
      "Resampler: SMOTE, Model: Logistic Regression\n"
     ]
    },
    {
     "name": "stderr",
     "output_type": "stream",
     "text": [
      "c:\\Users\\Joel\\Python Envs\\enedis\\Lib\\site-packages\\sklearn\\linear_model\\_logistic.py:469: ConvergenceWarning: lbfgs failed to converge (status=1):\n",
      "STOP: TOTAL NO. of ITERATIONS REACHED LIMIT.\n",
      "\n",
      "Increase the number of iterations (max_iter) or scale the data as shown in:\n",
      "    https://scikit-learn.org/stable/modules/preprocessing.html\n",
      "Please also refer to the documentation for alternative solver options:\n",
      "    https://scikit-learn.org/stable/modules/linear_model.html#logistic-regression\n",
      "  n_iter_i = _check_optimize_result(\n"
     ]
    },
    {
     "name": "stdout",
     "output_type": "stream",
     "text": [
      "Resampler: SMOTE, Model: Decision Tree\n",
      "Resampler: SMOTE, Model: XGBoost\n"
     ]
    },
    {
     "name": "stderr",
     "output_type": "stream",
     "text": [
      "c:\\Users\\Joel\\Python Envs\\enedis\\Lib\\site-packages\\xgboost\\core.py:158: UserWarning: [13:58:43] WARNING: C:\\buildkite-agent\\builds\\buildkite-windows-cpu-autoscaling-group-i-0015a694724fa8361-1\\xgboost\\xgboost-ci-windows\\src\\learner.cc:740: \n",
      "Parameters: { \"use_label_encoder\" } are not used.\n",
      "\n",
      "  warnings.warn(smsg, UserWarning)\n"
     ]
    },
    {
     "name": "stdout",
     "output_type": "stream",
     "text": [
      "Resampler: Borderline-SMOTE, Model: Random Forest\n",
      "Resampler: Borderline-SMOTE, Model: Logistic Regression\n"
     ]
    },
    {
     "name": "stderr",
     "output_type": "stream",
     "text": [
      "c:\\Users\\Joel\\Python Envs\\enedis\\Lib\\site-packages\\sklearn\\linear_model\\_logistic.py:469: ConvergenceWarning: lbfgs failed to converge (status=1):\n",
      "STOP: TOTAL NO. of ITERATIONS REACHED LIMIT.\n",
      "\n",
      "Increase the number of iterations (max_iter) or scale the data as shown in:\n",
      "    https://scikit-learn.org/stable/modules/preprocessing.html\n",
      "Please also refer to the documentation for alternative solver options:\n",
      "    https://scikit-learn.org/stable/modules/linear_model.html#logistic-regression\n",
      "  n_iter_i = _check_optimize_result(\n"
     ]
    },
    {
     "name": "stdout",
     "output_type": "stream",
     "text": [
      "Resampler: Borderline-SMOTE, Model: Decision Tree\n",
      "Resampler: Borderline-SMOTE, Model: XGBoost\n"
     ]
    },
    {
     "name": "stderr",
     "output_type": "stream",
     "text": [
      "c:\\Users\\Joel\\Python Envs\\enedis\\Lib\\site-packages\\xgboost\\core.py:158: UserWarning: [14:35:55] WARNING: C:\\buildkite-agent\\builds\\buildkite-windows-cpu-autoscaling-group-i-0015a694724fa8361-1\\xgboost\\xgboost-ci-windows\\src\\learner.cc:740: \n",
      "Parameters: { \"use_label_encoder\" } are not used.\n",
      "\n",
      "  warnings.warn(smsg, UserWarning)\n"
     ]
    },
    {
     "name": "stdout",
     "output_type": "stream",
     "text": [
      "Resampler: ADASYN, Model: Random Forest\n",
      "Resampler: ADASYN, Model: Logistic Regression\n"
     ]
    },
    {
     "name": "stderr",
     "output_type": "stream",
     "text": [
      "c:\\Users\\Joel\\Python Envs\\enedis\\Lib\\site-packages\\sklearn\\linear_model\\_logistic.py:469: ConvergenceWarning: lbfgs failed to converge (status=1):\n",
      "STOP: TOTAL NO. of ITERATIONS REACHED LIMIT.\n",
      "\n",
      "Increase the number of iterations (max_iter) or scale the data as shown in:\n",
      "    https://scikit-learn.org/stable/modules/preprocessing.html\n",
      "Please also refer to the documentation for alternative solver options:\n",
      "    https://scikit-learn.org/stable/modules/linear_model.html#logistic-regression\n",
      "  n_iter_i = _check_optimize_result(\n"
     ]
    },
    {
     "name": "stdout",
     "output_type": "stream",
     "text": [
      "Resampler: ADASYN, Model: Decision Tree\n",
      "Resampler: ADASYN, Model: XGBoost\n"
     ]
    },
    {
     "name": "stderr",
     "output_type": "stream",
     "text": [
      "c:\\Users\\Joel\\Python Envs\\enedis\\Lib\\site-packages\\xgboost\\core.py:158: UserWarning: [15:07:01] WARNING: C:\\buildkite-agent\\builds\\buildkite-windows-cpu-autoscaling-group-i-0015a694724fa8361-1\\xgboost\\xgboost-ci-windows\\src\\learner.cc:740: \n",
      "Parameters: { \"use_label_encoder\" } are not used.\n",
      "\n",
      "  warnings.warn(smsg, UserWarning)\n"
     ]
    },
    {
     "name": "stdout",
     "output_type": "stream",
     "text": [
      "Resampler: Random Undersampling, Model: Random Forest\n",
      "Resampler: Random Undersampling, Model: Logistic Regression\n"
     ]
    },
    {
     "name": "stderr",
     "output_type": "stream",
     "text": [
      "c:\\Users\\Joel\\Python Envs\\enedis\\Lib\\site-packages\\sklearn\\linear_model\\_logistic.py:469: ConvergenceWarning: lbfgs failed to converge (status=1):\n",
      "STOP: TOTAL NO. of ITERATIONS REACHED LIMIT.\n",
      "\n",
      "Increase the number of iterations (max_iter) or scale the data as shown in:\n",
      "    https://scikit-learn.org/stable/modules/preprocessing.html\n",
      "Please also refer to the documentation for alternative solver options:\n",
      "    https://scikit-learn.org/stable/modules/linear_model.html#logistic-regression\n",
      "  n_iter_i = _check_optimize_result(\n"
     ]
    },
    {
     "name": "stdout",
     "output_type": "stream",
     "text": [
      "Resampler: Random Undersampling, Model: Decision Tree\n",
      "Resampler: Random Undersampling, Model: XGBoost\n"
     ]
    },
    {
     "name": "stderr",
     "output_type": "stream",
     "text": [
      "c:\\Users\\Joel\\Python Envs\\enedis\\Lib\\site-packages\\xgboost\\core.py:158: UserWarning: [15:07:39] WARNING: C:\\buildkite-agent\\builds\\buildkite-windows-cpu-autoscaling-group-i-0015a694724fa8361-1\\xgboost\\xgboost-ci-windows\\src\\learner.cc:740: \n",
      "Parameters: { \"use_label_encoder\" } are not used.\n",
      "\n",
      "  warnings.warn(smsg, UserWarning)\n"
     ]
    },
    {
     "name": "stdout",
     "output_type": "stream",
     "text": [
      "Resampler: ClusterCentroids, Model: Random Forest\n",
      "Resampler: ClusterCentroids, Model: Logistic Regression\n"
     ]
    },
    {
     "name": "stderr",
     "output_type": "stream",
     "text": [
      "c:\\Users\\Joel\\Python Envs\\enedis\\Lib\\site-packages\\sklearn\\linear_model\\_logistic.py:469: ConvergenceWarning: lbfgs failed to converge (status=1):\n",
      "STOP: TOTAL NO. of ITERATIONS REACHED LIMIT.\n",
      "\n",
      "Increase the number of iterations (max_iter) or scale the data as shown in:\n",
      "    https://scikit-learn.org/stable/modules/preprocessing.html\n",
      "Please also refer to the documentation for alternative solver options:\n",
      "    https://scikit-learn.org/stable/modules/linear_model.html#logistic-regression\n",
      "  n_iter_i = _check_optimize_result(\n"
     ]
    },
    {
     "name": "stdout",
     "output_type": "stream",
     "text": [
      "Resampler: ClusterCentroids, Model: Decision Tree\n",
      "Resampler: ClusterCentroids, Model: XGBoost\n"
     ]
    },
    {
     "name": "stderr",
     "output_type": "stream",
     "text": [
      "c:\\Users\\Joel\\Python Envs\\enedis\\Lib\\site-packages\\xgboost\\core.py:158: UserWarning: [16:14:20] WARNING: C:\\buildkite-agent\\builds\\buildkite-windows-cpu-autoscaling-group-i-0015a694724fa8361-1\\xgboost\\xgboost-ci-windows\\src\\learner.cc:740: \n",
      "Parameters: { \"use_label_encoder\" } are not used.\n",
      "\n",
      "  warnings.warn(smsg, UserWarning)\n"
     ]
    },
    {
     "name": "stdout",
     "output_type": "stream",
     "text": [
      "Resampler: NearMiss, Model: Random Forest\n",
      "Resampler: NearMiss, Model: Logistic Regression\n"
     ]
    },
    {
     "name": "stderr",
     "output_type": "stream",
     "text": [
      "c:\\Users\\Joel\\Python Envs\\enedis\\Lib\\site-packages\\sklearn\\linear_model\\_logistic.py:469: ConvergenceWarning: lbfgs failed to converge (status=1):\n",
      "STOP: TOTAL NO. of ITERATIONS REACHED LIMIT.\n",
      "\n",
      "Increase the number of iterations (max_iter) or scale the data as shown in:\n",
      "    https://scikit-learn.org/stable/modules/preprocessing.html\n",
      "Please also refer to the documentation for alternative solver options:\n",
      "    https://scikit-learn.org/stable/modules/linear_model.html#logistic-regression\n",
      "  n_iter_i = _check_optimize_result(\n"
     ]
    },
    {
     "name": "stdout",
     "output_type": "stream",
     "text": [
      "Resampler: NearMiss, Model: Decision Tree\n",
      "Resampler: NearMiss, Model: XGBoost\n"
     ]
    },
    {
     "name": "stderr",
     "output_type": "stream",
     "text": [
      "c:\\Users\\Joel\\Python Envs\\enedis\\Lib\\site-packages\\xgboost\\core.py:158: UserWarning: [16:15:09] WARNING: C:\\buildkite-agent\\builds\\buildkite-windows-cpu-autoscaling-group-i-0015a694724fa8361-1\\xgboost\\xgboost-ci-windows\\src\\learner.cc:740: \n",
      "Parameters: { \"use_label_encoder\" } are not used.\n",
      "\n",
      "  warnings.warn(smsg, UserWarning)\n"
     ]
    }
   ],
   "source": [
    "%%time\n",
    "\n",
    "import pandas as pd\n",
    "\n",
    "results_file = \"classification_resampling_results.csv\"\n",
    "columns = [\n",
    "    \"Classifier\", \"Resampling Method\", \"Accuracy\", \"F1 Score\",\n",
    "    \"Precision\", \"Recall (Sensitivity)\", \"ROC AUC\"\n",
    "]\n",
    "pd.DataFrame(columns=columns).to_csv(f\"./results/{results_file}\", index=False)\n",
    "\n",
    "roc_curves = []\n",
    "pr_curves = []\n",
    "\n",
    "for resampler_name, resampler in resampling_methods.items():\n",
    "    if resampler:\n",
    "        X_resampled, y_resampled = resampler.fit_resample(X_train, y_train)\n",
    "    else:\n",
    "        X_resampled, y_resampled = X_train, y_train\n",
    "\n",
    "    for clf_name, clf in classifiers.items():\n",
    "        print(f\"Resampler: {resampler_name}, Model: {clf_name}\")\n",
    "        clf.fit(X_resampled, y_resampled)\n",
    "        y_pred = clf.predict(X_test)\n",
    "        y_prob = clf.predict_proba(X_test) if hasattr(clf, \"predict_proba\") else None\n",
    "\n",
    "        metrics = evaluate_model(y_test, y_pred, y_prob)\n",
    "        metrics[\"Classifier\"] = clf_name\n",
    "        metrics[\"Resampling Method\"] = resampler_name\n",
    "\n",
    "        result_df = pd.DataFrame([metrics])\n",
    "        \n",
    "        result_df.to_csv(f\"./results/{results_file}\", mode='a', header=False, index=False)\n",
    "\n",
    "        if y_prob is not None:\n",
    "            save_curves(y_test, y_prob, clf_name, resampler_name)"
   ]
  }
 ],
 "metadata": {
  "kernelspec": {
   "display_name": "enedis",
   "language": "python",
   "name": "python3"
  },
  "language_info": {
   "codemirror_mode": {
    "name": "ipython",
    "version": 3
   },
   "file_extension": ".py",
   "mimetype": "text/x-python",
   "name": "python",
   "nbconvert_exporter": "python",
   "pygments_lexer": "ipython3",
   "version": "3.11.9"
  }
 },
 "nbformat": 4,
 "nbformat_minor": 2
}
